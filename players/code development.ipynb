{
 "cells": [
  {
   "cell_type": "code",
   "execution_count": 2,
   "metadata": {},
   "outputs": [],
   "source": [
    "from games4e import *\n"
   ]
  },
  {
   "cell_type": "code",
   "execution_count": null,
   "metadata": {},
   "outputs": [],
   "source": [
    "#define the chopstick game\n",
    "\n",
    "class Chopsticks(Game):\n",
    "    def __init__(self):\n",
    "        self.state = {'A': 1, 'B': 1, 'C': 1, 'D': 1}\n",
    "        moves = ['AB', 'AC', 'AD', 'BA', 'BC', 'BD']\n",
    "        self.initial = GameState(to_move='P1', utility=0, board=self.state, moves=moves)\n",
    "\n",
    "    def actions(self, state: dict):\n",
    "        if state.to_move == 'P1':\n",
    "            return state.moves\n",
    "        else: return 'not your move'\n",
    "\n",
    "    def legal_moves(self, state):\n",
    "        if state.to_move == 'P1':\n",
    "            legal_moves = \n",
    "            moves = self.actions\n",
    "            legal_moves = []\n",
    "        for action in self.actions(state):\n",
    "            if action in state:\n",
    "                moves.append(action)\n",
    "        return moves\n",
    "\n",
    "    def actions(self, state)\n",
    "\n",
    "def \n",
    "\n"
   ]
  },
  {
   "cell_type": "code",
   "execution_count": null,
   "metadata": {},
   "outputs": [],
   "source": [
    "def generate_move(state_str):\n",
    "    #convert string into dictionary\n",
    "    state = {'A': int(state_str[1]), 'B': int(state_str[3]), 'C': int(state_str[5]), 'D': int(state_str[7])}\n",
    "    possible_moves = ['AB', 'AC', 'AD', 'BA', 'BC', 'BD']\n",
    "\n",
    "    #compute all legal moves\n",
    "\n",
    "    #iterate through all possible moves\n",
    "        #evaluate the move\n",
    "            #if move is forced win, return move\n",
    "            #else find k-distance - minimum distance to lost state\n",
    "            #return k-distance\n",
    "        #return move with highest k-distance - furthest away from losing\n",
    "    \n",
    "    #convert move into string\n",
    "\n",
    "\n",
    "    \n",
    "    \n",
    "\n",
    "\n",
    "\n",
    "#at the end convert back into string"
   ]
  },
  {
   "cell_type": "code",
   "execution_count": null,
   "metadata": {},
   "outputs": [],
   "source": []
  }
 ],
 "metadata": {
  "kernelspec": {
   "display_name": "base",
   "language": "python",
   "name": "python3"
  },
  "language_info": {
   "codemirror_mode": {
    "name": "ipython",
    "version": 3
   },
   "file_extension": ".py",
   "mimetype": "text/x-python",
   "name": "python",
   "nbconvert_exporter": "python",
   "pygments_lexer": "ipython3",
   "version": "3.11.4"
  }
 },
 "nbformat": 4,
 "nbformat_minor": 2
}
